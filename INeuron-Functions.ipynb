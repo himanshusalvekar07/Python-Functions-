{
 "cells": [
  {
   "cell_type": "code",
   "execution_count": 3,
   "id": "8ef01272",
   "metadata": {},
   "outputs": [],
   "source": [
    "def my_func(l):\n",
    "    result=1\n",
    "    for i in l:\n",
    "        result=result*i\n",
    "    return result\n",
    "\n",
    "        "
   ]
  },
  {
   "cell_type": "code",
   "execution_count": 6,
   "id": "8fad2ee6",
   "metadata": {},
   "outputs": [
    {
     "data": {
      "text/plain": [
       "34.408"
      ]
     },
     "execution_count": 6,
     "metadata": {},
     "output_type": "execute_result"
    }
   ],
   "source": [
    "my_func([2.2,3.4,4.6])"
   ]
  },
  {
   "cell_type": "code",
   "execution_count": 9,
   "id": "bdf78133",
   "metadata": {},
   "outputs": [],
   "source": [
    "def index_of_list(l):\n",
    "    for i in range(len(l)):\n",
    "        print(f\"The element:{l[i]} has index {i}\")\n",
    "    return \"List has ended\"\n",
    "\n",
    "        \n",
    "        "
   ]
  },
  {
   "cell_type": "code",
   "execution_count": 11,
   "id": "75c53ee6",
   "metadata": {},
   "outputs": [
    {
     "name": "stdout",
     "output_type": "stream",
     "text": [
      "The element:hims has index 0\n",
      "The element:adsa has index 1\n",
      "The element:12 has index 2\n",
      "The element:23 has index 3\n"
     ]
    },
    {
     "data": {
      "text/plain": [
       "'List has ended'"
      ]
     },
     "execution_count": 11,
     "metadata": {},
     "output_type": "execute_result"
    }
   ],
   "source": [
    "index_of_list(['hims','adsa',12,23])"
   ]
  },
  {
   "cell_type": "code",
   "execution_count": 13,
   "id": "36d22759",
   "metadata": {},
   "outputs": [
    {
     "data": {
      "text/plain": [
       "[(0, 12), (1, 3), (2, 4)]"
      ]
     },
     "execution_count": 13,
     "metadata": {},
     "output_type": "execute_result"
    }
   ],
   "source": [
    "l1=[12,3,4]\n",
    "list(enumerate(l1))"
   ]
  },
  {
   "cell_type": "code",
   "execution_count": 1,
   "id": "e349ba8d",
   "metadata": {},
   "outputs": [],
   "source": [
    "def len_count(s):\n",
    "    count=0\n",
    "    for i in s:\n",
    "        count+=1\n",
    "    print(f\"The length of the given string is: {count}.\")\n",
    "    \n"
   ]
  },
  {
   "cell_type": "code",
   "execution_count": 4,
   "id": "cb8f6fc6",
   "metadata": {},
   "outputs": [
    {
     "name": "stdout",
     "output_type": "stream",
     "text": [
      "The length of the given string is: 8.\n"
     ]
    }
   ],
   "source": [
    "len_count('abhishek')"
   ]
  },
  {
   "cell_type": "code",
   "execution_count": 6,
   "id": "c0b65cbb",
   "metadata": {},
   "outputs": [],
   "source": [
    "def max_num(l1):\n",
    "    max_num=0\n",
    "    for num in l1:\n",
    "        if num>max_num:\n",
    "            max_num=num\n",
    "    return max_num"
   ]
  },
  {
   "cell_type": "code",
   "execution_count": 7,
   "id": "6aabb677",
   "metadata": {},
   "outputs": [
    {
     "data": {
      "text/plain": [
       "4"
      ]
     },
     "execution_count": 7,
     "metadata": {},
     "output_type": "execute_result"
    }
   ],
   "source": [
    "max_num([1,2,3,4])"
   ]
  },
  {
   "cell_type": "code",
   "execution_count": 8,
   "id": "fb8251b0",
   "metadata": {},
   "outputs": [],
   "source": [
    "def min_num(l1):\n",
    "    min_num=0\n",
    "    for num in l1:\n",
    "        if num<min_num:\n",
    "            min_num=num\n",
    "    return min_num"
   ]
  },
  {
   "cell_type": "code",
   "execution_count": 9,
   "id": "af412966",
   "metadata": {},
   "outputs": [
    {
     "data": {
      "text/plain": [
       "0"
      ]
     },
     "execution_count": 9,
     "metadata": {},
     "output_type": "execute_result"
    }
   ],
   "source": [
    "min_num([1,2,3])"
   ]
  },
  {
   "cell_type": "code",
   "execution_count": 12,
   "id": "185aac67",
   "metadata": {},
   "outputs": [],
   "source": [
    "l1=[1,1,1,2,3,4,2,1,2,3,4]\n",
    "l2=list(set(l1))"
   ]
  },
  {
   "cell_type": "code",
   "execution_count": 13,
   "id": "add4c575",
   "metadata": {},
   "outputs": [
    {
     "data": {
      "text/plain": [
       "[1, 2, 3, 4]"
      ]
     },
     "execution_count": 13,
     "metadata": {},
     "output_type": "execute_result"
    }
   ],
   "source": [
    "l2"
   ]
  },
  {
   "cell_type": "code",
   "execution_count": 22,
   "id": "1657b200",
   "metadata": {},
   "outputs": [
    {
     "data": {
      "text/plain": [
       "[2, 3, 4]"
      ]
     },
     "execution_count": 22,
     "metadata": {},
     "output_type": "execute_result"
    }
   ],
   "source": [
    "l1\n",
    "for i in l1:\n",
    "    if l1.count(i)>1:\n",
    "        l1.remove(i)\n",
    "l1"
   ]
  },
  {
   "cell_type": "code",
   "execution_count": 21,
   "id": "d7bd45a0",
   "metadata": {},
   "outputs": [
    {
     "data": {
      "text/plain": [
       "[2, 3, 4]"
      ]
     },
     "execution_count": 21,
     "metadata": {},
     "output_type": "execute_result"
    }
   ],
   "source": [
    "l2=[1,2,3]\n",
    "l1.remove(1)\n",
    "l1"
   ]
  },
  {
   "cell_type": "code",
   "execution_count": 25,
   "id": "38843f77",
   "metadata": {},
   "outputs": [],
   "source": [
    "l1=[1,2,1,2,1,2,1,2,1,1,1,1,2]\n",
    "l2=list(set(l1))"
   ]
  },
  {
   "cell_type": "code",
   "execution_count": 26,
   "id": "66e5b634",
   "metadata": {},
   "outputs": [
    {
     "data": {
      "text/plain": [
       "[1, 2]"
      ]
     },
     "execution_count": 26,
     "metadata": {},
     "output_type": "execute_result"
    }
   ],
   "source": [
    "l2"
   ]
  },
  {
   "cell_type": "code",
   "execution_count": 28,
   "id": "118fee90",
   "metadata": {},
   "outputs": [
    {
     "data": {
      "text/plain": [
       "[0, 1, 2, 3, 4, 5, 6, 7, 8, 9]"
      ]
     },
     "execution_count": 28,
     "metadata": {},
     "output_type": "execute_result"
    }
   ],
   "source": [
    "list(range(10))"
   ]
  },
  {
   "cell_type": "code",
   "execution_count": 5,
   "id": "20af7c81",
   "metadata": {},
   "outputs": [],
   "source": [
    "l1=[1,2,3,2,2]\n",
    "l2=list(set(l1))"
   ]
  },
  {
   "cell_type": "code",
   "execution_count": 6,
   "id": "8b8b602c",
   "metadata": {},
   "outputs": [
    {
     "data": {
      "text/plain": [
       "[1, 2, 3]"
      ]
     },
     "execution_count": 6,
     "metadata": {},
     "output_type": "execute_result"
    }
   ],
   "source": [
    "l2"
   ]
  },
  {
   "cell_type": "code",
   "execution_count": 1,
   "id": "dfe79f67",
   "metadata": {},
   "outputs": [],
   "source": [
    "def test1(a,b):\n",
    "    return a+b"
   ]
  },
  {
   "cell_type": "code",
   "execution_count": 2,
   "id": "6ebe1227",
   "metadata": {},
   "outputs": [
    {
     "data": {
      "text/plain": [
       "3"
      ]
     },
     "execution_count": 2,
     "metadata": {},
     "output_type": "execute_result"
    }
   ],
   "source": [
    "test1(1,2)"
   ]
  },
  {
   "cell_type": "code",
   "execution_count": 5,
   "id": "2a5bd8de",
   "metadata": {},
   "outputs": [],
   "source": [
    "def test3(*args):\n",
    "    return list(args)"
   ]
  },
  {
   "cell_type": "code",
   "execution_count": 6,
   "id": "a4467ef3",
   "metadata": {},
   "outputs": [
    {
     "data": {
      "text/plain": [
       "[1, 2, 3, 4]"
      ]
     },
     "execution_count": 6,
     "metadata": {},
     "output_type": "execute_result"
    }
   ],
   "source": [
    "test3(1,2,3,4)"
   ]
  },
  {
   "cell_type": "code",
   "execution_count": 7,
   "id": "0f485a7c",
   "metadata": {},
   "outputs": [
    {
     "data": {
      "text/plain": [
       "{'key1': 'himanshu', 'key2': 'salvekar'}"
      ]
     },
     "execution_count": 7,
     "metadata": {},
     "output_type": "execute_result"
    }
   ],
   "source": [
    "d1={'key1':'himanshu','key2':'salvekar'}\n",
    "d1"
   ]
  },
  {
   "cell_type": "code",
   "execution_count": 13,
   "id": "1cc771fd",
   "metadata": {},
   "outputs": [],
   "source": [
    "d8={'player1':'Ronaldo','otherplayers':{'RM':'Marcelo','Barca':'Messi','PSG':'DiMaria'}}"
   ]
  },
  {
   "cell_type": "code",
   "execution_count": 15,
   "id": "5de761da",
   "metadata": {},
   "outputs": [
    {
     "data": {
      "text/plain": [
       "'DiMaria'"
      ]
     },
     "execution_count": 15,
     "metadata": {},
     "output_type": "execute_result"
    }
   ],
   "source": [
    "d8['otherplayers']['PSG']"
   ]
  },
  {
   "cell_type": "code",
   "execution_count": 16,
   "id": "4f859855",
   "metadata": {},
   "outputs": [
    {
     "data": {
      "text/plain": [
       "dict_keys(['key1', 'key2'])"
      ]
     },
     "execution_count": 16,
     "metadata": {},
     "output_type": "execute_result"
    }
   ],
   "source": [
    "d1.keys()"
   ]
  },
  {
   "cell_type": "code",
   "execution_count": 17,
   "id": "02d8fd15",
   "metadata": {},
   "outputs": [
    {
     "data": {
      "text/plain": [
       "['key1', 'key2']"
      ]
     },
     "execution_count": 17,
     "metadata": {},
     "output_type": "execute_result"
    }
   ],
   "source": [
    "list(d1.keys())"
   ]
  },
  {
   "cell_type": "code",
   "execution_count": 18,
   "id": "67b17fec",
   "metadata": {},
   "outputs": [
    {
     "data": {
      "text/plain": [
       "dict_items([('key1', 'himanshu'), ('key2', 'salvekar')])"
      ]
     },
     "execution_count": 18,
     "metadata": {},
     "output_type": "execute_result"
    }
   ],
   "source": [
    "d1.items()"
   ]
  },
  {
   "cell_type": "code",
   "execution_count": 22,
   "id": "8f106853",
   "metadata": {},
   "outputs": [],
   "source": [
    "l=[]\n",
    "for i in d8.keys():\n",
    "    if type(d8[i])==dict:\n",
    "        l.append(list(d8[i].values()))\n",
    "        "
   ]
  },
  {
   "cell_type": "code",
   "execution_count": 23,
   "id": "485d6f9e",
   "metadata": {},
   "outputs": [
    {
     "data": {
      "text/plain": [
       "[['Marcelo', 'Messi', 'DiMaria']]"
      ]
     },
     "execution_count": 23,
     "metadata": {},
     "output_type": "execute_result"
    }
   ],
   "source": [
    "l"
   ]
  },
  {
   "cell_type": "code",
   "execution_count": 24,
   "id": "1e4f5e84",
   "metadata": {},
   "outputs": [
    {
     "data": {
      "text/plain": [
       "dict_keys(['player1', 'otherplayers'])"
      ]
     },
     "execution_count": 24,
     "metadata": {},
     "output_type": "execute_result"
    }
   ],
   "source": [
    "d8.keys()"
   ]
  },
  {
   "cell_type": "code",
   "execution_count": 25,
   "id": "2e9bd1bf",
   "metadata": {},
   "outputs": [],
   "source": [
    "def test4(d):\n",
    "    for i in d.keys():\n",
    "        if type(d[i])==dict:\n",
    "            return list(d[i].values())\n",
    "            "
   ]
  },
  {
   "cell_type": "code",
   "execution_count": 26,
   "id": "27737c7d",
   "metadata": {},
   "outputs": [
    {
     "data": {
      "text/plain": [
       "['Marcelo', 'Messi', 'DiMaria']"
      ]
     },
     "execution_count": 26,
     "metadata": {},
     "output_type": "execute_result"
    }
   ],
   "source": [
    "test4(d8)"
   ]
  },
  {
   "cell_type": "code",
   "execution_count": 27,
   "id": "4b10819f",
   "metadata": {},
   "outputs": [
    {
     "data": {
      "text/plain": [
       "{'player1': 'Ronaldo',\n",
       " 'otherplayers': {'RM': 'Marcelo', 'Barca': 'Messi', 'PSG': 'DiMaria'}}"
      ]
     },
     "execution_count": 27,
     "metadata": {},
     "output_type": "execute_result"
    }
   ],
   "source": [
    "d8"
   ]
  },
  {
   "cell_type": "code",
   "execution_count": 28,
   "id": "b1c1df80",
   "metadata": {},
   "outputs": [],
   "source": [
    "del d8['player1']"
   ]
  },
  {
   "cell_type": "code",
   "execution_count": 29,
   "id": "7bb591a8",
   "metadata": {},
   "outputs": [
    {
     "data": {
      "text/plain": [
       "{'otherplayers': {'RM': 'Marcelo', 'Barca': 'Messi', 'PSG': 'DiMaria'}}"
      ]
     },
     "execution_count": 29,
     "metadata": {},
     "output_type": "execute_result"
    }
   ],
   "source": [
    "d8"
   ]
  },
  {
   "cell_type": "code",
   "execution_count": 30,
   "id": "52552fea",
   "metadata": {},
   "outputs": [],
   "source": [
    "def test5(**kwargs):\n",
    "    return kwargs"
   ]
  },
  {
   "cell_type": "code",
   "execution_count": 31,
   "id": "f33afe14",
   "metadata": {},
   "outputs": [
    {
     "data": {
      "text/plain": [
       "{'a': 10, 'b': 15, 'c': 6}"
      ]
     },
     "execution_count": 31,
     "metadata": {},
     "output_type": "execute_result"
    }
   ],
   "source": [
    "test5(a=10,b=15,c=6)"
   ]
  },
  {
   "cell_type": "code",
   "execution_count": 32,
   "id": "ac7895b6",
   "metadata": {},
   "outputs": [],
   "source": [
    "def test6(a):\n",
    "    return a\n",
    "def test7(b):\n",
    "    return b\n",
    "def test8(func):\n",
    "    return func('himan')"
   ]
  },
  {
   "cell_type": "code",
   "execution_count": 34,
   "id": "b9ff9dbd",
   "metadata": {},
   "outputs": [
    {
     "data": {
      "text/plain": [
       "'himan'"
      ]
     },
     "execution_count": 34,
     "metadata": {},
     "output_type": "execute_result"
    }
   ],
   "source": [
    "test8(test6)"
   ]
  },
  {
   "cell_type": "code",
   "execution_count": 35,
   "id": "237e1d20",
   "metadata": {},
   "outputs": [
    {
     "data": {
      "text/plain": [
       "'himan'"
      ]
     },
     "execution_count": 35,
     "metadata": {},
     "output_type": "execute_result"
    }
   ],
   "source": [
    "test6('himan')"
   ]
  },
  {
   "cell_type": "code",
   "execution_count": 38,
   "id": "02bea05c",
   "metadata": {},
   "outputs": [],
   "source": [
    "def test9(a):\n",
    "    print(\"THis is test9\")\n",
    "    \n",
    "    def test10():\n",
    "        print(\"THis is test10\")\n",
    "    \n",
    "    def test11():\n",
    "        print(\"THis is test11\")\n",
    "    if a=='himan':\n",
    "        return test10()\n",
    "    elif a=='sal':\n",
    "        return test\n",
    "    \n",
    "    "
   ]
  },
  {
   "cell_type": "code",
   "execution_count": 40,
   "id": "c56d01b7",
   "metadata": {},
   "outputs": [
    {
     "name": "stdout",
     "output_type": "stream",
     "text": [
      "THis is test9\n",
      "THis is test10\n"
     ]
    }
   ],
   "source": [
    "test9('himan')"
   ]
  },
  {
   "cell_type": "code",
   "execution_count": 1,
   "id": "209b10c5",
   "metadata": {},
   "outputs": [],
   "source": [
    "def test1(a):\n",
    "    return a\n",
    "def test2(b):\n",
    "    return b\n",
    "def test3(func):\n",
    "    return func(\"himanshu\")\n",
    "    "
   ]
  },
  {
   "cell_type": "code",
   "execution_count": 3,
   "id": "fba39ff3",
   "metadata": {},
   "outputs": [
    {
     "data": {
      "text/plain": [
       "'himanshu'"
      ]
     },
     "execution_count": 3,
     "metadata": {},
     "output_type": "execute_result"
    }
   ],
   "source": [
    "test3(test1)"
   ]
  },
  {
   "cell_type": "code",
   "execution_count": 4,
   "id": "3f701673",
   "metadata": {},
   "outputs": [],
   "source": [
    "def test4(a):\n",
    "    print(\"This is my test4\")\n",
    "    \n",
    "    def test5():\n",
    "        print(\"My test5\")\n",
    "    def test6():\n",
    "        print(\"My test6\")\n",
    "    if a=='hima':\n",
    "        return test5()\n",
    "    elif a=='salv':\n",
    "        return test6()"
   ]
  },
  {
   "cell_type": "code",
   "execution_count": 7,
   "id": "748a9a71",
   "metadata": {},
   "outputs": [
    {
     "name": "stdout",
     "output_type": "stream",
     "text": [
      "This is my test4\n",
      "My test6\n"
     ]
    }
   ],
   "source": [
    "test4('salv')"
   ]
  },
  {
   "cell_type": "code",
   "execution_count": 12,
   "id": "aa7e7064",
   "metadata": {},
   "outputs": [],
   "source": [
    "def test99():\n",
    "    def test100():\n",
    "        print('This is test100')\n",
    "    return test100()\n",
    "    "
   ]
  },
  {
   "cell_type": "code",
   "execution_count": 13,
   "id": "f0d9ac62",
   "metadata": {},
   "outputs": [
    {
     "name": "stdout",
     "output_type": "stream",
     "text": [
      "This is test100\n"
     ]
    }
   ],
   "source": [
    "test99()"
   ]
  },
  {
   "cell_type": "code",
   "execution_count": 20,
   "id": "274822b9",
   "metadata": {},
   "outputs": [],
   "source": [
    "def test7(*args):\n",
    "    print('This is a return of test7.')\n",
    "    "
   ]
  },
  {
   "cell_type": "code",
   "execution_count": 23,
   "id": "19d06f9f",
   "metadata": {},
   "outputs": [],
   "source": [
    "def test8(func):\n",
    "    def test9():\n",
    "        print('This is test9.')\n",
    "        func()\n",
    "    return test9()"
   ]
  },
  {
   "cell_type": "code",
   "execution_count": 24,
   "id": "ada049b4",
   "metadata": {},
   "outputs": [
    {
     "name": "stdout",
     "output_type": "stream",
     "text": [
      "This is test9.\n",
      "This is a return of test7.\n"
     ]
    }
   ],
   "source": [
    "test8(test7)"
   ]
  },
  {
   "cell_type": "code",
   "execution_count": 25,
   "id": "b8dec98a",
   "metadata": {},
   "outputs": [],
   "source": [
    "def test101(func):\n",
    "    def test102():\n",
    "        print(\"asas\")\n",
    "        func()\n",
    "    return test102()"
   ]
  },
  {
   "cell_type": "code",
   "execution_count": 26,
   "id": "3d84d57f",
   "metadata": {},
   "outputs": [
    {
     "name": "stdout",
     "output_type": "stream",
     "text": [
      "asas\n",
      "This is a return of test7.\n"
     ]
    }
   ],
   "source": [
    "test101(test7)"
   ]
  },
  {
   "cell_type": "code",
   "execution_count": 28,
   "id": "8fddd790",
   "metadata": {},
   "outputs": [
    {
     "name": "stdout",
     "output_type": "stream",
     "text": [
      "This is a return of test7.\n"
     ]
    }
   ],
   "source": [
    "test7()"
   ]
  },
  {
   "cell_type": "code",
   "execution_count": 43,
   "id": "6f9ad1b0",
   "metadata": {},
   "outputs": [],
   "source": [
    "import os\n",
    "def test10(func):\n",
    "    def test11():\n",
    "        print(\"This is test 11 and this will behave a decorator to any function that I call!\")\n",
    "        print(os.getcwd())\n",
    "        \n",
    "    return test11()"
   ]
  },
  {
   "cell_type": "code",
   "execution_count": 47,
   "id": "be3d8f16",
   "metadata": {},
   "outputs": [
    {
     "name": "stdout",
     "output_type": "stream",
     "text": [
      "This is test 11 and this will behave a decorator to any function that I call!\n",
      "C:\\Users\\devas\\Desktop\\sample_project_1\n"
     ]
    }
   ],
   "source": [
    "@test10\n",
    "def test12():\n",
    "    print(\"Test 12!\")\n"
   ]
  },
  {
   "cell_type": "code",
   "execution_count": 48,
   "id": "99dde4e9",
   "metadata": {},
   "outputs": [],
   "source": [
    "def test12(func):\n",
    "    def test13():\n",
    "        print('inside 13')\n",
    "        func()\n",
    "        print('Function executed')\n",
    "    return test13()"
   ]
  },
  {
   "cell_type": "code",
   "execution_count": 58,
   "id": "1193c4b4",
   "metadata": {},
   "outputs": [
    {
     "name": "stdout",
     "output_type": "stream",
     "text": [
      "inside 13\n",
      "test14\n",
      "Function executed\n"
     ]
    }
   ],
   "source": [
    "@test12\n",
    "def test14():\n",
    "    print('test14')"
   ]
  },
  {
   "cell_type": "code",
   "execution_count": 60,
   "id": "8e98f642",
   "metadata": {},
   "outputs": [
    {
     "data": {
      "text/plain": [
       "['HIMA', 'ASASA', 'DINI']"
      ]
     },
     "execution_count": 60,
     "metadata": {},
     "output_type": "execute_result"
    }
   ],
   "source": [
    "l1=['hima','asasa','dini']\n",
    "list(map(lambda a:a.upper(),l1))"
   ]
  },
  {
   "cell_type": "code",
   "execution_count": 63,
   "id": "76fd530a",
   "metadata": {},
   "outputs": [],
   "source": [
    "l=[1,2,3,4,5,6,7,8,9,18,191,0]\n",
    "l1=[]\n",
    "for i in l:\n",
    "    if i%2==0:\n",
    "        l1.append(i)"
   ]
  },
  {
   "cell_type": "code",
   "execution_count": 64,
   "id": "41c25f22",
   "metadata": {},
   "outputs": [
    {
     "data": {
      "text/plain": [
       "[2, 4, 6, 8, 18, 0]"
      ]
     },
     "execution_count": 64,
     "metadata": {},
     "output_type": "execute_result"
    }
   ],
   "source": [
    "l1"
   ]
  },
  {
   "cell_type": "code",
   "execution_count": 67,
   "id": "47d20fc9",
   "metadata": {},
   "outputs": [
    {
     "data": {
      "text/plain": [
       "[None, 2, None, 4, None, 6, None, 8, None, 18, None, 0]"
      ]
     },
     "execution_count": 67,
     "metadata": {},
     "output_type": "execute_result"
    }
   ],
   "source": [
    "list(map(lambda num:num if num%2==0 else None,l))"
   ]
  },
  {
   "cell_type": "code",
   "execution_count": 68,
   "id": "1571a4f9",
   "metadata": {},
   "outputs": [
    {
     "data": {
      "text/plain": [
       "[1, 2, 3, 4, 5, 6, 7, 8, 9, 18, 191, 0]"
      ]
     },
     "execution_count": 68,
     "metadata": {},
     "output_type": "execute_result"
    }
   ],
   "source": [
    "l"
   ]
  },
  {
   "cell_type": "code",
   "execution_count": 69,
   "id": "17bb27f9",
   "metadata": {},
   "outputs": [],
   "source": [
    "l1=[i for i in l if i%2==0]"
   ]
  },
  {
   "cell_type": "code",
   "execution_count": 70,
   "id": "3b66a110",
   "metadata": {},
   "outputs": [
    {
     "data": {
      "text/plain": [
       "[2, 4, 6, 8, 18, 0]"
      ]
     },
     "execution_count": 70,
     "metadata": {},
     "output_type": "execute_result"
    }
   ],
   "source": [
    "l1"
   ]
  },
  {
   "cell_type": "code",
   "execution_count": 1,
   "id": "95f70957",
   "metadata": {},
   "outputs": [],
   "source": [
    "def test20():\n",
    "    def test21():\n",
    "        print('Hello')\n",
    "    return test21()"
   ]
  },
  {
   "cell_type": "code",
   "execution_count": 2,
   "id": "95f6e5a6",
   "metadata": {},
   "outputs": [
    {
     "name": "stdout",
     "output_type": "stream",
     "text": [
      "Hello\n"
     ]
    }
   ],
   "source": [
    "test20()"
   ]
  },
  {
   "cell_type": "code",
   "execution_count": 20,
   "id": "0ecc2685",
   "metadata": {},
   "outputs": [],
   "source": [
    "#wrapperFunction\n",
    "def test1(func):\n",
    "    def test2():\n",
    "        print(func())\n",
    "        print(type(func()))\n",
    "        \n",
    "    test2()\n",
    "    "
   ]
  },
  {
   "cell_type": "code",
   "execution_count": 21,
   "id": "125c5869",
   "metadata": {},
   "outputs": [
    {
     "name": "stdout",
     "output_type": "stream",
     "text": [
      "10\n",
      "<class 'int'>\n"
     ]
    }
   ],
   "source": [
    "@test1\n",
    "def test4():\n",
    "    return 10"
   ]
  },
  {
   "cell_type": "code",
   "execution_count": 63,
   "id": "17728b57",
   "metadata": {},
   "outputs": [
    {
     "name": "stdout",
     "output_type": "stream",
     "text": [
      "This is test7himans\n"
     ]
    }
   ],
   "source": [
    "@test1\n",
    "def test7():\n",
    "    return \"This is test7\"\n"
   ]
  },
  {
   "cell_type": "code",
   "execution_count": 86,
   "id": "4b0e7191",
   "metadata": {},
   "outputs": [],
   "source": [
    "def test8(func) :\n",
    "    def test9(*args,**kwargs):\n",
    "        func(*args,**kwargs)\n",
    "        print(func(*args,**kwargs))\n",
    "        print(\"this is my decorator functinon\") \n",
    "        return func(*args,**kwargs)\n",
    "    return test9"
   ]
  },
  {
   "cell_type": "code",
   "execution_count": 87,
   "id": "5de5d6b1",
   "metadata": {},
   "outputs": [
    {
     "name": "stdout",
     "output_type": "stream",
     "text": [
      "this is my decorator functinon\n"
     ]
    }
   ],
   "source": [
    "@test8\n",
    "def test10(a,b):\n",
    "    return a+b\n",
    "test10(1,2)"
   ]
  },
  {
   "cell_type": "code",
   "execution_count": 25,
   "id": "50bca802",
   "metadata": {},
   "outputs": [],
   "source": [
    "\n",
    "def test1(func):\n",
    "    def test2():\n",
    "        print(func())\n",
    "    test2()\n",
    "    \n",
    "\n",
    "    "
   ]
  },
  {
   "cell_type": "code",
   "execution_count": 26,
   "id": "027d99ff",
   "metadata": {},
   "outputs": [
    {
     "name": "stdout",
     "output_type": "stream",
     "text": [
      "58\n"
     ]
    }
   ],
   "source": [
    "@test1\n",
    "def test3():\n",
    "    return 3+55"
   ]
  },
  {
   "cell_type": "code",
   "execution_count": 31,
   "id": "a8b61e37",
   "metadata": {},
   "outputs": [],
   "source": [
    "def test4(func):\n",
    "    def test5():\n",
    "        print(func())\n",
    "        print(type(func()))\n",
    "    test5()"
   ]
  },
  {
   "cell_type": "code",
   "execution_count": 32,
   "id": "1b8ac351",
   "metadata": {},
   "outputs": [
    {
     "name": "stdout",
     "output_type": "stream",
     "text": [
      "[2, 2, 4, 6, 4, 8]\n",
      "<class 'list'>\n"
     ]
    }
   ],
   "source": [
    "@test4\n",
    "def test6():\n",
    "    l1=[1,2,3,1,2,4,5,6,4,7,8,9]\n",
    "    return list(filter(lambda num:num if num%2==0 else None,l1))"
   ]
  },
  {
   "cell_type": "code",
   "execution_count": 34,
   "id": "0e55f8c3",
   "metadata": {},
   "outputs": [
    {
     "data": {
      "text/plain": [
       "[0, 1, 2, 3, 4, 5, 6, 7, 8, 9]"
      ]
     },
     "execution_count": 34,
     "metadata": {},
     "output_type": "execute_result"
    }
   ],
   "source": [
    "list(range(10))"
   ]
  },
  {
   "cell_type": "code",
   "execution_count": 35,
   "id": "b5febec2",
   "metadata": {},
   "outputs": [
    {
     "name": "stdout",
     "output_type": "stream",
     "text": [
      "1\n",
      "H\n",
      "asa\n"
     ]
    }
   ],
   "source": [
    "spam=int(input())\n",
    "if spam==1:\n",
    "    print('H')\n",
    "    print('asa')"
   ]
  },
  {
   "cell_type": "code",
   "execution_count": 3,
   "id": "221c2463",
   "metadata": {},
   "outputs": [
    {
     "name": "stdout",
     "output_type": "stream",
     "text": [
      "0\n",
      "1\n",
      "2\n",
      "3\n",
      "4\n",
      "5\n",
      "6\n",
      "7\n",
      "8\n",
      "9\n",
      "10\n"
     ]
    }
   ],
   "source": [
    "for i in range(11):\n",
    "    print(i)"
   ]
  },
  {
   "cell_type": "code",
   "execution_count": 4,
   "id": "b2ecf5dc",
   "metadata": {},
   "outputs": [
    {
     "name": "stdout",
     "output_type": "stream",
     "text": [
      "1\n",
      "2\n",
      "3\n",
      "4\n",
      "5\n",
      "6\n",
      "7\n",
      "8\n",
      "9\n",
      "10\n"
     ]
    }
   ],
   "source": [
    "i=1\n",
    "while i<11:\n",
    "    print(i)\n",
    "    i=i+1"
   ]
  },
  {
   "cell_type": "code",
   "execution_count": 6,
   "id": "6937947d",
   "metadata": {},
   "outputs": [
    {
     "name": "stdout",
     "output_type": "stream",
     "text": [
      "ham\n",
      "spam\n",
      "spam\n"
     ]
    }
   ],
   "source": [
    "spam = 0\n",
    "if spam == 10:\n",
    "    print('eggs')\n",
    "if spam > 5:\n",
    "    print('bacon')\n",
    "else:\n",
    "    print('ham')\n",
    "    print('spam')\n",
    "    print('spam')\n"
   ]
  },
  {
   "cell_type": "code",
   "execution_count": null,
   "id": "b73a9a2f",
   "metadata": {},
   "outputs": [],
   "source": []
  }
 ],
 "metadata": {
  "kernelspec": {
   "display_name": "Python 3",
   "language": "python",
   "name": "python3"
  },
  "language_info": {
   "codemirror_mode": {
    "name": "ipython",
    "version": 3
   },
   "file_extension": ".py",
   "mimetype": "text/x-python",
   "name": "python",
   "nbconvert_exporter": "python",
   "pygments_lexer": "ipython3",
   "version": "3.8.8"
  }
 },
 "nbformat": 4,
 "nbformat_minor": 5
}
